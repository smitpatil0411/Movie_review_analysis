{
 "cells": [
  {
   "cell_type": "code",
   "execution_count": 1,
   "id": "cc1cdcce-2cad-46b2-afa9-61bdf2252487",
   "metadata": {},
   "outputs": [],
   "source": [
    "import pandas as pd\n",
    "from sklearn.model_selection import train_test_split\n",
    "from sklearn.feature_extraction.text import CountVectorizer\n",
    "from sklearn.linear_model import LogisticRegression\n",
    "from sklearn.metrics import accuracy_score, f1_score, classification_report, confusion_matrix\n",
    "import seaborn as sns\n",
    "import matplotlib.pyplot as plt"
   ]
  },
  {
   "cell_type": "code",
   "execution_count": 2,
   "id": "21b93301-1019-4b9d-a805-5325d3fa9e91",
   "metadata": {},
   "outputs": [
    {
     "data": {
      "text/html": [
       "<div>\n",
       "<style scoped>\n",
       "    .dataframe tbody tr th:only-of-type {\n",
       "        vertical-align: middle;\n",
       "    }\n",
       "\n",
       "    .dataframe tbody tr th {\n",
       "        vertical-align: top;\n",
       "    }\n",
       "\n",
       "    .dataframe thead th {\n",
       "        text-align: right;\n",
       "    }\n",
       "</style>\n",
       "<table border=\"1\" class=\"dataframe\">\n",
       "  <thead>\n",
       "    <tr style=\"text-align: right;\">\n",
       "      <th></th>\n",
       "      <th>review</th>\n",
       "      <th>sentiment</th>\n",
       "    </tr>\n",
       "  </thead>\n",
       "  <tbody>\n",
       "    <tr>\n",
       "      <th>0</th>\n",
       "      <td>Terrible plot and awful acting. I regret watch...</td>\n",
       "      <td>negative</td>\n",
       "    </tr>\n",
       "    <tr>\n",
       "      <th>1</th>\n",
       "      <td>The movie was okay, but it didn't really stand...</td>\n",
       "      <td>neutral</td>\n",
       "    </tr>\n",
       "    <tr>\n",
       "      <th>2</th>\n",
       "      <td>I absolutely loved this movie! The story was e...</td>\n",
       "      <td>positive</td>\n",
       "    </tr>\n",
       "    <tr>\n",
       "      <th>3</th>\n",
       "      <td>One of the best movies I've seen this year! Tr...</td>\n",
       "      <td>positive</td>\n",
       "    </tr>\n",
       "    <tr>\n",
       "      <th>4</th>\n",
       "      <td>The characters were flat and uninteresting. Ve...</td>\n",
       "      <td>negative</td>\n",
       "    </tr>\n",
       "  </tbody>\n",
       "</table>\n",
       "</div>"
      ],
      "text/plain": [
       "                                              review sentiment\n",
       "0  Terrible plot and awful acting. I regret watch...  negative\n",
       "1  The movie was okay, but it didn't really stand...   neutral\n",
       "2  I absolutely loved this movie! The story was e...  positive\n",
       "3  One of the best movies I've seen this year! Tr...  positive\n",
       "4  The characters were flat and uninteresting. Ve...  negative"
      ]
     },
     "execution_count": 2,
     "metadata": {},
     "output_type": "execute_result"
    }
   ],
   "source": [
    "import pandas as pd\n",
    "\n",
    "# Load the dataset\n",
    "data = pd.read_csv('movie_reviews.csv')\n",
    "data.head()\n"
   ]
  },
  {
   "cell_type": "code",
   "execution_count": 3,
   "id": "d8eeae1b-edb2-4e0e-80f2-0a2113291d5c",
   "metadata": {},
   "outputs": [
    {
     "name": "stderr",
     "output_type": "stream",
     "text": [
      "[nltk_data] Downloading package punkt to\n",
      "[nltk_data]     C:\\Users\\smitp\\AppData\\Roaming\\nltk_data...\n",
      "[nltk_data]   Package punkt is already up-to-date!\n",
      "[nltk_data] Downloading package stopwords to\n",
      "[nltk_data]     C:\\Users\\smitp\\AppData\\Roaming\\nltk_data...\n",
      "[nltk_data]   Package stopwords is already up-to-date!\n",
      "[nltk_data] Downloading package punkt_tab to\n",
      "[nltk_data]     C:\\Users\\smitp\\AppData\\Roaming\\nltk_data...\n",
      "[nltk_data]   Package punkt_tab is already up-to-date!\n"
     ]
    },
    {
     "data": {
      "text/plain": [
       "True"
      ]
     },
     "execution_count": 3,
     "metadata": {},
     "output_type": "execute_result"
    }
   ],
   "source": [
    "import nltk\n",
    "\n",
    "nltk.download('punkt')      # For word tokenization\n",
    "nltk.download('stopwords')  # For stop words\n",
    "nltk.download('punkt_tab')   # Additional punkt resource\n",
    "\n"
   ]
  },
  {
   "cell_type": "code",
   "execution_count": 4,
   "id": "11b42702-b43f-4df9-97cf-057a7c08cc72",
   "metadata": {},
   "outputs": [
    {
     "name": "stderr",
     "output_type": "stream",
     "text": [
      "[nltk_data] Downloading package punkt to\n",
      "[nltk_data]     C:\\Users\\smitp\\AppData\\Roaming\\nltk_data...\n",
      "[nltk_data]   Package punkt is already up-to-date!\n",
      "[nltk_data] Downloading package stopwords to\n",
      "[nltk_data]     C:\\Users\\smitp\\AppData\\Roaming\\nltk_data...\n",
      "[nltk_data]   Package stopwords is already up-to-date!\n"
     ]
    },
    {
     "data": {
      "text/html": [
       "<div>\n",
       "<style scoped>\n",
       "    .dataframe tbody tr th:only-of-type {\n",
       "        vertical-align: middle;\n",
       "    }\n",
       "\n",
       "    .dataframe tbody tr th {\n",
       "        vertical-align: top;\n",
       "    }\n",
       "\n",
       "    .dataframe thead th {\n",
       "        text-align: right;\n",
       "    }\n",
       "</style>\n",
       "<table border=\"1\" class=\"dataframe\">\n",
       "  <thead>\n",
       "    <tr style=\"text-align: right;\">\n",
       "      <th></th>\n",
       "      <th>review</th>\n",
       "      <th>sentiment</th>\n",
       "      <th>cleaned_review</th>\n",
       "    </tr>\n",
       "  </thead>\n",
       "  <tbody>\n",
       "    <tr>\n",
       "      <th>0</th>\n",
       "      <td>Terrible plot and awful acting. I regret watch...</td>\n",
       "      <td>negative</td>\n",
       "      <td>terrible plot awful acting regret watching</td>\n",
       "    </tr>\n",
       "    <tr>\n",
       "      <th>1</th>\n",
       "      <td>The movie was okay, but it didn't really stand...</td>\n",
       "      <td>neutral</td>\n",
       "      <td>movie okay really stand</td>\n",
       "    </tr>\n",
       "    <tr>\n",
       "      <th>2</th>\n",
       "      <td>I absolutely loved this movie! The story was e...</td>\n",
       "      <td>positive</td>\n",
       "      <td>absolutely loved movie story engaging acting s...</td>\n",
       "    </tr>\n",
       "    <tr>\n",
       "      <th>3</th>\n",
       "      <td>One of the best movies I've seen this year! Tr...</td>\n",
       "      <td>positive</td>\n",
       "      <td>one best movies seen year truly inspiring emot...</td>\n",
       "    </tr>\n",
       "    <tr>\n",
       "      <th>4</th>\n",
       "      <td>The characters were flat and uninteresting. Ve...</td>\n",
       "      <td>negative</td>\n",
       "      <td>characters flat uninteresting forgettable</td>\n",
       "    </tr>\n",
       "  </tbody>\n",
       "</table>\n",
       "</div>"
      ],
      "text/plain": [
       "                                              review sentiment  \\\n",
       "0  Terrible plot and awful acting. I regret watch...  negative   \n",
       "1  The movie was okay, but it didn't really stand...   neutral   \n",
       "2  I absolutely loved this movie! The story was e...  positive   \n",
       "3  One of the best movies I've seen this year! Tr...  positive   \n",
       "4  The characters were flat and uninteresting. Ve...  negative   \n",
       "\n",
       "                                      cleaned_review  \n",
       "0         terrible plot awful acting regret watching  \n",
       "1                            movie okay really stand  \n",
       "2  absolutely loved movie story engaging acting s...  \n",
       "3  one best movies seen year truly inspiring emot...  \n",
       "4          characters flat uninteresting forgettable  "
      ]
     },
     "execution_count": 4,
     "metadata": {},
     "output_type": "execute_result"
    }
   ],
   "source": [
    "import nltk\n",
    "from nltk.corpus import stopwords\n",
    "from nltk.tokenize import word_tokenize\n",
    "import re\n",
    "\n",
    "# Download the NLTK stopwords\n",
    "nltk.download('punkt')\n",
    "nltk.download('stopwords')\n",
    "\n",
    "# Function to preprocess the text\n",
    "def preprocess_text(text):\n",
    "    # Remove special characters\n",
    "    text = re.sub(r'\\W', ' ', text)\n",
    "    # Convert to lowercase\n",
    "    text = text.lower()\n",
    "    # Tokenize\n",
    "    words = word_tokenize(text)\n",
    "    # Remove stopwords\n",
    "    words = [word for word in words if word not in stopwords.words('english')]\n",
    "    return ' '.join(words)\n",
    "\n",
    "# Apply preprocessing to the review column\n",
    "data['cleaned_review'] = data['review'].apply(preprocess_text)\n",
    "data.head()\n"
   ]
  },
  {
   "cell_type": "code",
   "execution_count": 5,
   "id": "bcacce7a-590a-47b6-bf30-7f77a74b2104",
   "metadata": {},
   "outputs": [],
   "source": [
    "from sklearn.model_selection import train_test_split\n",
    "from sklearn.feature_extraction.text import CountVectorizer\n",
    "\n",
    "# Split the dataset into training and testing sets\n",
    "X = data['cleaned_review']\n",
    "y = data['sentiment']\n",
    "\n",
    "# Convert labels to numerical format\n",
    "y = y.map({'positive': 1, 'negative': 0, 'neutral': 0.5})\n",
    "\n",
    "# Vectorize the text data\n",
    "vectorizer = CountVectorizer()\n",
    "X_vectorized = vectorizer.fit_transform(X)\n",
    "\n",
    "# Split into training and testing sets\n",
    "X_train, X_test, y_train, y_test = train_test_split(X_vectorized, y, test_size=0.2, random_state=42)\n"
   ]
  },
  {
   "cell_type": "code",
   "execution_count": 6,
   "id": "1bd57223-c42a-49ba-b781-14a176d6ad64",
   "metadata": {},
   "outputs": [
    {
     "name": "stdout",
     "output_type": "stream",
     "text": [
      "Logistic Regression Accuracy: 0.67\n",
      "Logistic Regression F1 Score: 0.54\n"
     ]
    }
   ],
   "source": [
    "from sklearn.linear_model import LogisticRegression\n",
    "from sklearn.metrics import accuracy_score, f1_score\n",
    "import numpy as np\n",
    "import pandas as pd\n",
    "\n",
    "# Assuming y_train contains continuous scores, convert to binary labels (0 or 1)\n",
    "threshold = 0.75  # You can adjust this threshold based on your use case\n",
    "y_train = (y_train > threshold).astype(int)  # Convert continuous scores to binary labels\n",
    "y_test = (y_test > threshold).astype(int)    # Do the same for the test set\n",
    "\n",
    "# Train the Logistic Regression model\n",
    "log_model = LogisticRegression()\n",
    "log_model.fit(X_train, y_train)\n",
    "\n",
    "# Make predictions\n",
    "y_pred_log = log_model.predict(X_test)\n",
    "\n",
    "# Evaluate the model\n",
    "accuracy_log = accuracy_score(y_test, y_pred_log)\n",
    "f1_log = f1_score(y_test, y_pred_log, average='weighted')\n",
    "\n",
    "print(f'Logistic Regression Accuracy: {accuracy_log:.2f}')\n",
    "print(f'Logistic Regression F1 Score: {f1_log:.2f}')\n"
   ]
  },
  {
   "cell_type": "code",
   "execution_count": 7,
   "id": "e2775d41-ee04-431b-a1a5-f44050951c31",
   "metadata": {},
   "outputs": [
    {
     "name": "stdout",
     "output_type": "stream",
     "text": [
      "                                              review predicted_sentiment\n",
      "0  I loved the movie! It was fantastic and thrill...            positive\n",
      "1  The movie was okay, but it didn't really stand...            negative\n",
      "2         I hated the movie. It was a waste of time.            negative\n"
     ]
    }
   ],
   "source": [
    "# Sample test data\n",
    "# Create a new DataFrame for testing (replace with your actual test data)\n",
    "test_data = pd.DataFrame({\n",
    "    'review': [\n",
    "        \"I loved the movie! It was fantastic and thrilling.\",\n",
    "        \"The movie was okay, but it didn't really stand out\",\n",
    "        \"I hated the movie. It was a waste of time.\"\n",
    "    ]\n",
    "})\n",
    "\n",
    "# Preprocess the test reviews\n",
    "test_data['cleaned_review'] = test_data['review'].apply(preprocess_text)\n",
    "\n",
    "# Vectorize the test data\n",
    "X_test_vectorized = vectorizer.transform(test_data['cleaned_review'])\n",
    "\n",
    "# Make predictions\n",
    "y_test_pred = log_model.predict(X_test_vectorized)\n",
    "\n",
    "# Map predictions to sentiment labels\n",
    "sentiment_mapping = {1: 'positive', 0: 'negative', 0.5: 'neutral'}\n",
    "predicted_sentiments = [sentiment_mapping[pred] for pred in y_test_pred]\n",
    "\n",
    "# Add predictions to the test data\n",
    "test_data['predicted_sentiment'] = predicted_sentiments\n",
    "\n",
    "# Display the results\n",
    "print(test_data[['review', 'predicted_sentiment']])\n"
   ]
  },
  {
   "cell_type": "code",
   "execution_count": null,
   "id": "3a27dd52-cdfb-46a4-a585-812d6edbef33",
   "metadata": {},
   "outputs": [],
   "source": []
  },
  {
   "cell_type": "code",
   "execution_count": null,
   "id": "0580328a-b489-4e71-82f8-0cc21da5fd65",
   "metadata": {},
   "outputs": [],
   "source": []
  },
  {
   "cell_type": "code",
   "execution_count": null,
   "id": "0fcff632-0650-4965-b684-adff2699d6f0",
   "metadata": {},
   "outputs": [],
   "source": []
  },
  {
   "cell_type": "code",
   "execution_count": null,
   "id": "1212e2c8-9ea0-4ce3-977f-65b774b48d81",
   "metadata": {},
   "outputs": [],
   "source": []
  },
  {
   "cell_type": "code",
   "execution_count": null,
   "id": "cd856c12-0a6a-4e30-a6fe-eb7fe9918dfb",
   "metadata": {},
   "outputs": [],
   "source": []
  }
 ],
 "metadata": {
  "kernelspec": {
   "display_name": "Python 3",
   "language": "python",
   "name": "python3"
  },
  "language_info": {
   "codemirror_mode": {
    "name": "ipython",
    "version": 3
   },
   "file_extension": ".py",
   "mimetype": "text/x-python",
   "name": "python",
   "nbconvert_exporter": "python",
   "pygments_lexer": "ipython3",
   "version": "3.13.0"
  }
 },
 "nbformat": 4,
 "nbformat_minor": 5
}
