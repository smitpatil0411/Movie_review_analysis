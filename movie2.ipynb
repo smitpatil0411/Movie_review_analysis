{
 "cells": [
  {
   "cell_type": "code",
   "execution_count": 7,
   "id": "9b276f30",
   "metadata": {},
   "outputs": [],
   "source": [
    "import pandas as pd\n",
    "import nltk\n",
    "from nltk.corpus import stopwords\n",
    "from nltk.tokenize import word_tokenize\n",
    "import re\n",
    "from sklearn.model_selection import train_test_split\n",
    "from sklearn.feature_extraction.text import CountVectorizer\n",
    "from sklearn.linear_model import LogisticRegression\n",
    "from sklearn.metrics import accuracy_score, f1_score"
   ]
  },
  {
   "cell_type": "code",
   "execution_count": 8,
   "id": "94e52f8d",
   "metadata": {},
   "outputs": [
    {
     "name": "stderr",
     "output_type": "stream",
     "text": [
      "[nltk_data] Downloading package punkt to\n",
      "[nltk_data]     C:\\Users\\smitp\\AppData\\Roaming\\nltk_data...\n",
      "[nltk_data]   Package punkt is already up-to-date!\n",
      "[nltk_data] Downloading package stopwords to\n",
      "[nltk_data]     C:\\Users\\smitp\\AppData\\Roaming\\nltk_data...\n",
      "[nltk_data]   Package stopwords is already up-to-date!\n"
     ]
    },
    {
     "data": {
      "text/plain": [
       "True"
      ]
     },
     "execution_count": 8,
     "metadata": {},
     "output_type": "execute_result"
    }
   ],
   "source": [
    "# Download necessary NLTK resources\n",
    "nltk.download('punkt')\n",
    "nltk.download('stopwords')"
   ]
  },
  {
   "cell_type": "code",
   "execution_count": 9,
   "id": "23a690a8",
   "metadata": {},
   "outputs": [],
   "source": [
    "def preprocess_text(text):\n",
    "    # Remove special characters\n",
    "    text = re.sub(r'\\W', ' ', text)\n",
    "    # Convert to lowercase\n",
    "    text = text.lower()\n",
    "    # Tokenize\n",
    "    words = word_tokenize(text)\n",
    "    # Remove stopwords\n",
    "    words = [word for word in words if word not in stopwords.words('english')]\n",
    "    return ' '.join(words)"
   ]
  },
  {
   "cell_type": "code",
   "execution_count": null,
   "id": "6eea9aa5",
   "metadata": {},
   "outputs": [],
   "source": [
    "# Load the dataset\n",
    "data = pd.read_csv('IMDB Dataset.csv')\n",
    "\n",
    "# Apply preprocessing to the review column\n",
    "data['cleaned_review'] = data['review'].apply(preprocess_text)\n",
    "\n",
    "# Split the dataset into features and target\n",
    "X = data['cleaned_review']\n",
    "y = data['sentiment']\n",
    "\n",
    "# Convert sentiment labels to binary (1 for positive, 0 for negative)\n",
    "y = y.map({'positive': 1, 'negative': 0})\n",
    "\n",
    "# Vectorize the text data\n",
    "vectorizer = CountVectorizer()\n",
    "X_vectorized = vectorizer.fit_transform(X)\n",
    "\n",
    "# Split into training and testing sets\n",
    "X_train, X_test, y_train, y_test = train_test_split(X_vectorized, y, test_size=0.2, random_state=42)"
   ]
  },
  {
   "cell_type": "code",
   "execution_count": 2,
   "id": "5e9b35cf",
   "metadata": {},
   "outputs": [
    {
     "ename": "NameError",
     "evalue": "name 'LogisticRegression' is not defined",
     "output_type": "error",
     "traceback": [
      "\u001b[1;31m---------------------------------------------------------------------------\u001b[0m",
      "\u001b[1;31mNameError\u001b[0m                                 Traceback (most recent call last)",
      "Cell \u001b[1;32mIn[2], line 2\u001b[0m\n\u001b[0;32m      1\u001b[0m \u001b[38;5;66;03m# Train the Logistic Regression model\u001b[39;00m\n\u001b[1;32m----> 2\u001b[0m log_model \u001b[38;5;241m=\u001b[39m \u001b[43mLogisticRegression\u001b[49m()\n\u001b[0;32m      3\u001b[0m log_model\u001b[38;5;241m.\u001b[39mfit(X_train, y_train)\n\u001b[0;32m      5\u001b[0m \u001b[38;5;66;03m# Make predictions\u001b[39;00m\n",
      "\u001b[1;31mNameError\u001b[0m: name 'LogisticRegression' is not defined"
     ]
    }
   ],
   "source": [
    "# Train the Logistic Regression model\n",
    "log_model = LogisticRegression()\n",
    "log_model.fit(X_train, y_train)\n",
    "\n",
    "# Make predictions\n",
    "y_pred_log = log_model.predict(X_test)\n",
    "\n",
    "# Evaluate the model\n",
    "accuracy_log = accuracy_score(y_test, y_pred_log)\n",
    "f1_log = f1_score(y_test, y_pred_log)\n",
    "\n",
    "print(f'Logistic Regression Accuracy: {accuracy_log:.2f}')\n",
    "print(f'Logistic Regression F1 Score: {f1_log:.2f}')"
   ]
  },
  {
   "cell_type": "code",
   "execution_count": 1,
   "id": "d3b7020d",
   "metadata": {},
   "outputs": [
    {
     "ename": "NameError",
     "evalue": "name 'pd' is not defined",
     "output_type": "error",
     "traceback": [
      "\u001b[1;31m---------------------------------------------------------------------------\u001b[0m",
      "\u001b[1;31mNameError\u001b[0m                                 Traceback (most recent call last)",
      "Cell \u001b[1;32mIn[1], line 2\u001b[0m\n\u001b[0;32m      1\u001b[0m \u001b[38;5;66;03m# Testing on sample data\u001b[39;00m\n\u001b[1;32m----> 2\u001b[0m test_data \u001b[38;5;241m=\u001b[39m \u001b[43mpd\u001b[49m\u001b[38;5;241m.\u001b[39mDataFrame({\n\u001b[0;32m      3\u001b[0m     \u001b[38;5;124m'\u001b[39m\u001b[38;5;124mreview\u001b[39m\u001b[38;5;124m'\u001b[39m: [\n\u001b[0;32m      4\u001b[0m         \u001b[38;5;124m\"\u001b[39m\u001b[38;5;124mI did not hate the movie! It was very fantastic and thrilling.\u001b[39m\u001b[38;5;124m\"\u001b[39m,\n\u001b[0;32m      5\u001b[0m         \u001b[38;5;124m\"\u001b[39m\u001b[38;5;124mThe movie was okay, but it didn\u001b[39m\u001b[38;5;124m'\u001b[39m\u001b[38;5;124mt really stand out\u001b[39m\u001b[38;5;124m\"\u001b[39m,\n\u001b[0;32m      6\u001b[0m         \u001b[38;5;124m\"\u001b[39m\u001b[38;5;124mI hated the movie. It was a waste of time.\u001b[39m\u001b[38;5;124m\"\u001b[39m\n\u001b[0;32m      7\u001b[0m     ]\n\u001b[0;32m      8\u001b[0m })\n\u001b[0;32m     10\u001b[0m \u001b[38;5;66;03m# Preprocess the test reviews\u001b[39;00m\n\u001b[0;32m     11\u001b[0m test_data[\u001b[38;5;124m'\u001b[39m\u001b[38;5;124mcleaned_review\u001b[39m\u001b[38;5;124m'\u001b[39m] \u001b[38;5;241m=\u001b[39m test_data[\u001b[38;5;124m'\u001b[39m\u001b[38;5;124mreview\u001b[39m\u001b[38;5;124m'\u001b[39m]\u001b[38;5;241m.\u001b[39mapply(preprocess_text)\n",
      "\u001b[1;31mNameError\u001b[0m: name 'pd' is not defined"
     ]
    }
   ],
   "source": [
    "# Testing on sample data\n",
    "test_data = pd.DataFrame({\n",
    "    'review': [\n",
    "        \"I did not hate the movie! It was very fantastic and thrilling.\",\n",
    "        \"The movie was okay, but it didn't really stand out\",\n",
    "        \"I hated the movie. It was a waste of time.\"\n",
    "    ]\n",
    "})\n",
    "\n",
    "# Preprocess the test reviews\n",
    "test_data['cleaned_review'] = test_data['review'].apply(preprocess_text)\n",
    "\n",
    "# Vectorize the test data\n",
    "X_test_vectorized = vectorizer.transform(test_data['cleaned_review'])\n",
    "\n",
    "# Make predictions\n",
    "y_test_pred = log_model.predict(X_test_vectorized)\n",
    "\n",
    "# Map predictions to sentiment labels\n",
    "sentiment_mapping = {1: 'positive', 0: 'negative'}\n",
    "predicted_sentiments = [sentiment_mapping[pred] for pred in y_test_pred]\n",
    "\n",
    "# Add predictions to the test data\n",
    "test_data['predicted_sentiment'] = predicted_sentiments\n",
    "\n",
    "# Display the results\n",
    "print(test_data[['review', 'predicted_sentiment']])"
   ]
  }
 ],
 "metadata": {
  "kernelspec": {
   "display_name": "Python 3",
   "language": "python",
   "name": "python3"
  },
  "language_info": {
   "codemirror_mode": {
    "name": "ipython",
    "version": 3
   },
   "file_extension": ".py",
   "mimetype": "text/x-python",
   "name": "python",
   "nbconvert_exporter": "python",
   "pygments_lexer": "ipython3",
   "version": "3.13.0"
  }
 },
 "nbformat": 4,
 "nbformat_minor": 5
}
